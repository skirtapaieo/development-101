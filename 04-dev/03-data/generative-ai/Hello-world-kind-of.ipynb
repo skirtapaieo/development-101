{
 "cells": [
  {
   "cell_type": "code",
   "execution_count": 1,
   "metadata": {},
   "outputs": [
    {
     "name": "stdout",
     "output_type": "stream",
     "text": [
      "The world is a vast and beautiful place filled with a diverse array of cultures, languages, and ecosystems. While it faces many challenges such as climate change and inequality, it is also home to countless natural wonders, inspiring individuals and remarkable achievements. It is up to us to celebrate and protect this amazing planet we call home.\n"
     ]
    }
   ],
   "source": [
    "import openai\n",
    "response = openai.ChatCompletion.create(\n",
    "    model=\"gpt-3.5-turbo\",\n",
    "    messages=[  \n",
    "        {\"role\": \"system\", \"content\": \"You are HelloWorld\"},\n",
    "        {\"role\": \"user\", \"content\": \"Say something about the World\"}   \n",
    "    ]\n",
    ")\n",
    "print(response[\"choices\"][0][\"message\"][\"content\"])"
   ]
  }
 ],
 "metadata": {
  "kernelspec": {
   "display_name": "Python 3",
   "language": "python",
   "name": "python3"
  },
  "language_info": {
   "codemirror_mode": {
    "name": "ipython",
    "version": 3
   },
   "file_extension": ".py",
   "mimetype": "text/x-python",
   "name": "python",
   "nbconvert_exporter": "python",
   "pygments_lexer": "ipython3",
   "version": "3.11.0"
  },
  "orig_nbformat": 4
 },
 "nbformat": 4,
 "nbformat_minor": 2
}
