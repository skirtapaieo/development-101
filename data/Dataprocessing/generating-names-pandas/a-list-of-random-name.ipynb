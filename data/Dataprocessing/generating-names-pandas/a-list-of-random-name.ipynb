{
 "cells": [
  {
   "attachments": {},
   "cell_type": "markdown",
   "metadata": {},
   "source": [
    "## Create a list of random names, ages, heights "
   ]
  },
  {
   "cell_type": "code",
   "execution_count": 7,
   "metadata": {},
   "outputs": [
    {
     "name": "stdout",
     "output_type": "stream",
     "text": [
      "  First Name Last Name  Age  Height\n",
      "0       Jane   Johnson   42     195\n",
      "1      David     Brown   58     184\n",
      "2      Emily    Taylor   54     152\n",
      "3       Jane       Lee   28     177\n",
      "4      Emily   Johnson   43     181\n",
      "5       Jane     Smith   50     185\n",
      "6    Michael    Taylor   65     167\n",
      "7      Emily   Johnson   27     177\n",
      "8       John   Johnson   29     155\n",
      "9       John     Smith   32     152\n"
     ]
    }
   ],
   "source": [
    "import pandas as pd\n",
    "import random\n",
    "\n",
    "# Define the column names\n",
    "columns = ['First Name', 'Last Name', 'Age', 'Height']\n",
    "\n",
    "# Generate random instances for each column\n",
    "data = {\n",
    "    'First Name': [random.choice(['John', 'Jane', 'Michael', 'Emily', 'David']) for _ in range(10)],\n",
    "    'Last Name': [random.choice(['Smith', 'Johnson', 'Brown', 'Taylor', 'Lee']) for _ in range(10)],\n",
    "    'Age': [random.randint(18, 65) for _ in range(10)],\n",
    "    'Height': [int(round(random.uniform(150.0, 200.0))) for _ in range(10)]\n",
    "}\n",
    "\n",
    "# Create the DataFrame\n",
    "df = pd.DataFrame(data, columns=columns)\n",
    "\n",
    "# Print the DataFrame\n",
    "print(df)\n"
   ]
  },
  {
   "attachments": {},
   "cell_type": "markdown",
   "metadata": {},
   "source": [
    "## Calculate average height "
   ]
  },
  {
   "cell_type": "code",
   "execution_count": 8,
   "metadata": {},
   "outputs": [
    {
     "name": "stdout",
     "output_type": "stream",
     "text": [
      "Average Height: 172.5\n"
     ]
    }
   ],
   "source": [
    "import pandas as pd\n",
    "\n",
    "# Assuming you already have the DataFrame 'df' with the 'Height' column\n",
    "\n",
    "# Calculate the average height\n",
    "average_height = df['Height'].mean()\n",
    "\n",
    "# Print the average height\n",
    "print(\"Average Height:\", average_height)\n"
   ]
  },
  {
   "attachments": {},
   "cell_type": "markdown",
   "metadata": {},
   "source": [
    "## Write the dataframe to a file (XLS)"
   ]
  },
  {
   "cell_type": "code",
   "execution_count": 5,
   "metadata": {},
   "outputs": [],
   "source": [
    "import pandas as pd\n",
    "import random\n",
    "\n",
    "# Generate random data\n",
    "data = {\n",
    "    'First Name': [f\"First Name {i+1}\" for i in range(10)],\n",
    "    'Last Name': [f\"Last Name {i+1}\" for i in range(10)],\n",
    "    'Age': [random.randint(18, 60) for _ in range(10)],\n",
    "    'Height': [random.randint(150, 200) for _ in range(10)],\n",
    "}\n",
    "\n",
    "# Create a DataFrame\n",
    "df = pd.DataFrame(data)\n",
    "\n",
    "# Save DataFrame to .txt file\n",
    "df.to_csv('output.txt', sep='\\t', index=False)\n",
    "\n"
   ]
  }
 ],
 "metadata": {
  "kernelspec": {
   "display_name": "Python 3",
   "language": "python",
   "name": "python3"
  },
  "language_info": {
   "codemirror_mode": {
    "name": "ipython",
    "version": 3
   },
   "file_extension": ".py",
   "mimetype": "text/x-python",
   "name": "python",
   "nbconvert_exporter": "python",
   "pygments_lexer": "ipython3",
   "version": "3.11.0"
  },
  "orig_nbformat": 4
 },
 "nbformat": 4,
 "nbformat_minor": 2
}
